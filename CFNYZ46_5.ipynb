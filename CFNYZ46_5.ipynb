{
  "nbformat": 4,
  "nbformat_minor": 0,
  "metadata": {
    "colab": {
      "provenance": [],
      "authorship_tag": "ABX9TyMhilmk3t8mBBntcB6iDd3h",
      "include_colab_link": true
    },
    "kernelspec": {
      "name": "python3",
      "display_name": "Python 3"
    },
    "language_info": {
      "name": "python"
    }
  },
  "cells": [
    {
      "cell_type": "markdown",
      "metadata": {
        "id": "view-in-github",
        "colab_type": "text"
      },
      "source": [
        "<a href=\"https://colab.research.google.com/github/frankxsu11ivan/20221106_Ftothepowerof2/blob/main/CFNYZ46_5.ipynb\" target=\"_parent\"><img src=\"https://colab.research.google.com/assets/colab-badge.svg\" alt=\"Open In Colab\"/></a>"
      ]
    },
    {
      "cell_type": "code",
      "execution_count": null,
      "metadata": {
        "id": "IerMCS1qB-kS"
      },
      "outputs": [],
      "source": []
    },
    {
      "cell_type": "code",
      "source": [
        "def find_max_consecutive_length(lst):\n",
        "    max_length = 0\n",
        "    current_length = 0\n",
        "\n",
        "    last_num = None\n",
        "    for num in sorted(lst):\n",
        "        if num - 1 == last_num:\n",
        "            # If prev num is in sequence, then increment\n",
        "            current_length += 1\n",
        "        else:\n",
        "            # Otherwise, reset to 1\n",
        "            current_length = 1\n",
        "\n",
        "        last_num = num\n",
        "        max_length = max(max_length, current_length)\n",
        "\n",
        "    return max_length"
      ],
      "metadata": {
        "id": "DHYXMEbZEKMJ"
      },
      "execution_count": 1,
      "outputs": []
    }
  ]
}